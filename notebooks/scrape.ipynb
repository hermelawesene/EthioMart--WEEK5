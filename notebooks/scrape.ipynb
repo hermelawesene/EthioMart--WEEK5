{
 "cells": [
  {
   "cell_type": "code",
   "execution_count": 1,
   "metadata": {},
   "outputs": [],
   "source": [
    "import os\n",
    "from dotenv import load_dotenv\n",
    "\n",
    "# Load environment variables once\n",
    "load_dotenv('.env')\n",
    "api_id = os.getenv('TG_API_ID')\n",
    "api_hash = os.getenv('TG_API_HASH')\n",
    "phone_number = os.getenv('phone')"
   ]
  },
  {
   "cell_type": "code",
   "execution_count": 2,
   "metadata": {},
   "outputs": [
    {
     "name": "stdout",
     "output_type": "stream",
     "text": [
      "Signed in successfully as Fekerte; remember to not break the ToS or you will risk an account ban!\n",
      "Scraped 6268 messages from https://t.me/nejashimarketingcenter.\n"
     ]
    }
   ],
   "source": [
    "import csv\n",
    "from telethon import TelegramClient\n",
    "\n",
    "# Function to scrape messages from a Telegram channel and save to CSV\n",
    "async def scrape_telegram_messages(api_id, api_hash, phone_number, channel_link, csv_filename='messages.csv'):\n",
    "    \"\"\"\n",
    "    This function scrapes messages from a Telegram channel using the Telethon library\n",
    "    and saves the messages into a CSV file.\n",
    "\n",
    "    Parameters:\n",
    "    - api_id: Your API ID from Telegram\n",
    "    - api_hash: Your API hash from Telegram\n",
    "    - phone_number: Your phone number linked to Telegram (used for authentication)\n",
    "    - channel_link: The link of the Telegram channel you want to scrape messages from\n",
    "    - csv_filename: The CSV file where scraped messages will be saved (default: 'messages.csv')\n",
    "    \"\"\"\n",
    "    # Initialize the Telegram client\n",
    "    client = TelegramClient('session_name', api_id, api_hash)\n",
    "\n",
    "    async with client:  # Ensure async context for using the Telegram client\n",
    "        await client.start(phone_number)  # Start the client and authenticate with phone number\n",
    "        \n",
    "        # Fetch the channel entity from the link\n",
    "        channel = await client.get_entity(channel_link)\n",
    "        \n",
    "        all_messages = []  # Store the messages in a list\n",
    "\n",
    "        # Use Telethon's iter_messages to fetch messages from the channel\n",
    "        async for message in client.iter_messages(channel, limit=10000):  # No limit, fetch everything\n",
    "            all_messages.append(message)\n",
    "\n",
    "        # Save the messages to a CSV file\n",
    "        with open(csv_filename, mode='w', newline='', encoding='utf-8') as file:\n",
    "            writer = csv.writer(file)\n",
    "            # Writing header\n",
    "            writer.writerow([\"message_id\", \"from_id\", \"date\", \"message_text\"])\n",
    "            # Write each message's details to the CSV file\n",
    "            for message in all_messages:\n",
    "                writer.writerow([message.id, message.from_id, message.date, message.message])\n",
    "\n",
    "        print(f\"Scraped {len(all_messages)} messages from {channel_link}.\")\n",
    "\n",
    "\n",
    "channel_link = 'https://t.me/nejashimarketingcenter'  # Replace with the desired channel link\n",
    "csv_filename = 'NejashMarket.csv'  # CSV file name to save messages\n",
    "\n",
    "# Running the async function in a Jupyter notebook environment\n",
    "await scrape_telegram_messages(api_id, api_hash, phone_number, channel_link, csv_filename)\n"
   ]
  }
 ],
 "metadata": {
  "kernelspec": {
   "display_name": ".venv",
   "language": "python",
   "name": "python3"
  },
  "language_info": {
   "codemirror_mode": {
    "name": "ipython",
    "version": 3
   },
   "file_extension": ".py",
   "mimetype": "text/x-python",
   "name": "python",
   "nbconvert_exporter": "python",
   "pygments_lexer": "ipython3",
   "version": "3.12.5"
  }
 },
 "nbformat": 4,
 "nbformat_minor": 2
}
